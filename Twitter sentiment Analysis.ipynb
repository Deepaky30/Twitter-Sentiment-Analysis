{
 "cells": [
  {
   "cell_type": "markdown",
   "id": "8e9daba3",
   "metadata": {},
   "source": [
    "# TWITTER SENTIMENT ANALYSIS"
   ]
  },
  {
   "cell_type": "code",
   "execution_count": 1,
   "id": "18ab54e7",
   "metadata": {},
   "outputs": [],
   "source": [
    "import pandas as pd\n",
    "import numpy as np\n",
    "import seaborn as sn\n",
    "import matplotlib.pyplot as plt\n",
    "import warnings\n",
    "warnings.filterwarnings('ignore')\n",
    "import nltk"
   ]
  },
  {
   "cell_type": "code",
   "execution_count": 2,
   "id": "98f03475",
   "metadata": {},
   "outputs": [],
   "source": [
    "data=pd.read_csv('https://raw.githubusercontent.com/vineetdhanawat/twitter-sentiment-analysis/master/datasets/Sentiment%20Analysis%20Dataset.csv',encoding='latin-1')"
   ]
  },
  {
   "cell_type": "code",
   "execution_count": 3,
   "id": "20731a0c",
   "metadata": {},
   "outputs": [
    {
     "data": {
      "text/html": [
       "<div>\n",
       "<style scoped>\n",
       "    .dataframe tbody tr th:only-of-type {\n",
       "        vertical-align: middle;\n",
       "    }\n",
       "\n",
       "    .dataframe tbody tr th {\n",
       "        vertical-align: top;\n",
       "    }\n",
       "\n",
       "    .dataframe thead th {\n",
       "        text-align: right;\n",
       "    }\n",
       "</style>\n",
       "<table border=\"1\" class=\"dataframe\">\n",
       "  <thead>\n",
       "    <tr style=\"text-align: right;\">\n",
       "      <th></th>\n",
       "      <th>ItemID</th>\n",
       "      <th>Sentiment</th>\n",
       "      <th>SentimentText</th>\n",
       "    </tr>\n",
       "  </thead>\n",
       "  <tbody>\n",
       "    <tr>\n",
       "      <th>0</th>\n",
       "      <td>1</td>\n",
       "      <td>0</td>\n",
       "      <td>is so sad for my APL frie...</td>\n",
       "    </tr>\n",
       "    <tr>\n",
       "      <th>1</th>\n",
       "      <td>2</td>\n",
       "      <td>0</td>\n",
       "      <td>I missed the New Moon trail...</td>\n",
       "    </tr>\n",
       "    <tr>\n",
       "      <th>2</th>\n",
       "      <td>3</td>\n",
       "      <td>1</td>\n",
       "      <td>omg its already 7:30 :O</td>\n",
       "    </tr>\n",
       "    <tr>\n",
       "      <th>3</th>\n",
       "      <td>4</td>\n",
       "      <td>0</td>\n",
       "      <td>.. Omgaga. Im sooo  im gunna CRy. I'...</td>\n",
       "    </tr>\n",
       "    <tr>\n",
       "      <th>4</th>\n",
       "      <td>5</td>\n",
       "      <td>0</td>\n",
       "      <td>i think mi bf is cheating on me!!!   ...</td>\n",
       "    </tr>\n",
       "  </tbody>\n",
       "</table>\n",
       "</div>"
      ],
      "text/plain": [
       "   ItemID  Sentiment                                      SentimentText\n",
       "0       1          0                       is so sad for my APL frie...\n",
       "1       2          0                     I missed the New Moon trail...\n",
       "2       3          1                            omg its already 7:30 :O\n",
       "3       4          0            .. Omgaga. Im sooo  im gunna CRy. I'...\n",
       "4       5          0           i think mi bf is cheating on me!!!   ..."
      ]
     },
     "execution_count": 3,
     "metadata": {},
     "output_type": "execute_result"
    }
   ],
   "source": [
    "data.head()\n"
   ]
  },
  {
   "cell_type": "code",
   "execution_count": 4,
   "id": "b73f3aae",
   "metadata": {},
   "outputs": [
    {
     "name": "stdout",
     "output_type": "stream",
     "text": [
      "(1048575, 3)\n",
      "<class 'pandas.core.frame.DataFrame'>\n",
      "RangeIndex: 1048575 entries, 0 to 1048574\n",
      "Data columns (total 3 columns):\n",
      " #   Column         Non-Null Count    Dtype \n",
      "---  ------         --------------    ----- \n",
      " 0   ItemID         1048575 non-null  int64 \n",
      " 1   Sentiment      1048575 non-null  int64 \n",
      " 2   SentimentText  1048575 non-null  object\n",
      "dtypes: int64(2), object(1)\n",
      "memory usage: 24.0+ MB\n",
      "None\n",
      "ItemID            int64\n",
      "Sentiment         int64\n",
      "SentimentText    object\n",
      "dtype: object\n"
     ]
    }
   ],
   "source": [
    "print(data.shape)\n",
    "print(data.info())\n",
    "print(data.dtypes)"
   ]
  },
  {
   "cell_type": "code",
   "execution_count": 57,
   "id": "916ec500",
   "metadata": {},
   "outputs": [],
   "source": [
    "#we will take 1/4 of dataset because it's huge dataset mylaptop can't run it that's why i am taking 1/4 of the total "
   ]
  },
  {
   "cell_type": "code",
   "execution_count": 5,
   "id": "221a791e",
   "metadata": {},
   "outputs": [],
   "source": [
    "df=data.loc[0:262140,:]"
   ]
  },
  {
   "cell_type": "code",
   "execution_count": 6,
   "id": "e42df01e",
   "metadata": {},
   "outputs": [
    {
     "name": "stdout",
     "output_type": "stream",
     "text": [
      "(262141, 3)\n"
     ]
    }
   ],
   "source": [
    "print(df.shape)"
   ]
  },
  {
   "cell_type": "code",
   "execution_count": 7,
   "id": "7ffbf299",
   "metadata": {},
   "outputs": [
    {
     "data": {
      "text/plain": [
       "ItemID           0\n",
       "Sentiment        0\n",
       "SentimentText    0\n",
       "dtype: int64"
      ]
     },
     "execution_count": 7,
     "metadata": {},
     "output_type": "execute_result"
    }
   ],
   "source": [
    "df.isnull().sum()"
   ]
  },
  {
   "cell_type": "code",
   "execution_count": 8,
   "id": "7dfc9f2a",
   "metadata": {},
   "outputs": [
    {
     "name": "stdout",
     "output_type": "stream",
     "text": [
      "[0 1]\n"
     ]
    }
   ],
   "source": [
    "print(df['Sentiment'].unique())"
   ]
  },
  {
   "cell_type": "markdown",
   "id": "e72d9773",
   "metadata": {},
   "source": [
    "# Cleaning Punctuations"
   ]
  },
  {
   "cell_type": "code",
   "execution_count": null,
   "id": "17ddffa4",
   "metadata": {},
   "outputs": [],
   "source": [
    "#cleaning punctuations basically means that we are removing some unwanted elements\n",
    "#from the comments like @Username will convert to only name\n",
    "#deleting numerical value "
   ]
  },
  {
   "cell_type": "code",
   "execution_count": 9,
   "id": "046f3b91",
   "metadata": {},
   "outputs": [],
   "source": [
    "import string\n",
    "english_punctuations = string.punctuation\n",
    "punctuations_list = english_punctuations\n",
    "def cleaning_punctuations(text):\n",
    "    translator = str.maketrans('', '', punctuations_list)\n",
    "    return text.translate(translator)\n",
    "df['SentimentText']= df['SentimentText'].apply(lambda x: cleaning_punctuations(x))"
   ]
  },
  {
   "cell_type": "code",
   "execution_count": 10,
   "id": "a7639e15",
   "metadata": {},
   "outputs": [],
   "source": [
    "df['tweet']=df['SentimentText'].str.replace(\"[^a-zA-Z#]\",\" \")"
   ]
  },
  {
   "cell_type": "code",
   "execution_count": 11,
   "id": "05995367",
   "metadata": {},
   "outputs": [],
   "source": [
    "df['tweet']=df['tweet'].apply(lambda x:\" \".join([w for w in x.split() if len(w)>3]))"
   ]
  },
  {
   "cell_type": "code",
   "execution_count": 12,
   "id": "a3440a52",
   "metadata": {},
   "outputs": [
    {
     "data": {
      "text/html": [
       "<div>\n",
       "<style scoped>\n",
       "    .dataframe tbody tr th:only-of-type {\n",
       "        vertical-align: middle;\n",
       "    }\n",
       "\n",
       "    .dataframe tbody tr th {\n",
       "        vertical-align: top;\n",
       "    }\n",
       "\n",
       "    .dataframe thead th {\n",
       "        text-align: right;\n",
       "    }\n",
       "</style>\n",
       "<table border=\"1\" class=\"dataframe\">\n",
       "  <thead>\n",
       "    <tr style=\"text-align: right;\">\n",
       "      <th></th>\n",
       "      <th>ItemID</th>\n",
       "      <th>Sentiment</th>\n",
       "      <th>SentimentText</th>\n",
       "      <th>tweet</th>\n",
       "    </tr>\n",
       "  </thead>\n",
       "  <tbody>\n",
       "    <tr>\n",
       "      <th>0</th>\n",
       "      <td>1</td>\n",
       "      <td>0</td>\n",
       "      <td>is so sad for my APL friend</td>\n",
       "      <td>friend</td>\n",
       "    </tr>\n",
       "    <tr>\n",
       "      <th>1</th>\n",
       "      <td>2</td>\n",
       "      <td>0</td>\n",
       "      <td>I missed the New Moon trailer</td>\n",
       "      <td>missed Moon trailer</td>\n",
       "    </tr>\n",
       "    <tr>\n",
       "      <th>2</th>\n",
       "      <td>3</td>\n",
       "      <td>1</td>\n",
       "      <td>omg its already 730 O</td>\n",
       "      <td>already</td>\n",
       "    </tr>\n",
       "    <tr>\n",
       "      <th>3</th>\n",
       "      <td>4</td>\n",
       "      <td>0</td>\n",
       "      <td>Omgaga Im sooo  im gunna CRy Ive be...</td>\n",
       "      <td>Omgaga sooo gunna been this dentist since supo...</td>\n",
       "    </tr>\n",
       "    <tr>\n",
       "      <th>4</th>\n",
       "      <td>5</td>\n",
       "      <td>0</td>\n",
       "      <td>i think mi bf is cheating on me       TT</td>\n",
       "      <td>think cheating</td>\n",
       "    </tr>\n",
       "  </tbody>\n",
       "</table>\n",
       "</div>"
      ],
      "text/plain": [
       "   ItemID  Sentiment                                      SentimentText  \\\n",
       "0       1          0                        is so sad for my APL friend   \n",
       "1       2          0                      I missed the New Moon trailer   \n",
       "2       3          1                              omg its already 730 O   \n",
       "3       4          0             Omgaga Im sooo  im gunna CRy Ive be...   \n",
       "4       5          0           i think mi bf is cheating on me       TT   \n",
       "\n",
       "                                               tweet  \n",
       "0                                             friend  \n",
       "1                                missed Moon trailer  \n",
       "2                                            already  \n",
       "3  Omgaga sooo gunna been this dentist since supo...  \n",
       "4                                     think cheating  "
      ]
     },
     "execution_count": 12,
     "metadata": {},
     "output_type": "execute_result"
    }
   ],
   "source": [
    "df.head()"
   ]
  },
  {
   "cell_type": "markdown",
   "id": "b47002a1",
   "metadata": {},
   "source": [
    "# Tokenization"
   ]
  },
  {
   "cell_type": "code",
   "execution_count": 13,
   "id": "ac1916e0",
   "metadata": {},
   "outputs": [
    {
     "data": {
      "text/plain": [
       "0                                             [friend]\n",
       "1                              [missed, Moon, trailer]\n",
       "2                                            [already]\n",
       "3    [Omgaga, sooo, gunna, been, this, dentist, sin...\n",
       "4                                    [think, cheating]\n",
       "Name: tweet, dtype: object"
      ]
     },
     "execution_count": 13,
     "metadata": {},
     "output_type": "execute_result"
    }
   ],
   "source": [
    "tokenized_tweet=df['tweet'].apply(lambda x:x.split())\n",
    "tokenized_tweet.head()"
   ]
  },
  {
   "cell_type": "markdown",
   "id": "21f961e9",
   "metadata": {},
   "source": [
    "# Stemming"
   ]
  },
  {
   "cell_type": "code",
   "execution_count": 15,
   "id": "037a67fe",
   "metadata": {},
   "outputs": [
    {
     "data": {
      "text/plain": [
       "0                                             [friend]\n",
       "1                                [miss, moon, trailer]\n",
       "2                                            [alreadi]\n",
       "3    [omgaga, sooo, gunna, been, thi, dentist, sinc...\n",
       "4                                       [think, cheat]\n",
       "Name: tweet, dtype: object"
      ]
     },
     "execution_count": 15,
     "metadata": {},
     "output_type": "execute_result"
    }
   ],
   "source": [
    "from nltk.stem import PorterStemmer\n",
    "ps=PorterStemmer()\n",
    "tokenized_tweet=tokenized_tweet.apply(lambda x:[ps.stem(word)for word in x])\n",
    "tokenized_tweet.head()"
   ]
  },
  {
   "cell_type": "markdown",
   "id": "00f2d965",
   "metadata": {},
   "source": [
    "# Lemmatization"
   ]
  },
  {
   "cell_type": "code",
   "execution_count": 16,
   "id": "98da14fd",
   "metadata": {},
   "outputs": [
    {
     "data": {
      "text/plain": [
       "0                                             [friend]\n",
       "1                                [miss, moon, trailer]\n",
       "2                                            [alreadi]\n",
       "3    [omgaga, sooo, gunna, been, thi, dentist, sinc...\n",
       "4                                       [think, cheat]\n",
       "Name: tweet, dtype: object"
      ]
     },
     "execution_count": 16,
     "metadata": {},
     "output_type": "execute_result"
    }
   ],
   "source": [
    "from nltk.stem import WordNetLemmatizer\n",
    "wl=WordNetLemmatizer()\n",
    "tokenized_tweet=tokenized_tweet.apply(lambda x:[wl.lemmatize(word)for word in x])\n",
    "tokenized_tweet.head()"
   ]
  },
  {
   "cell_type": "code",
   "execution_count": 17,
   "id": "189de8ee",
   "metadata": {},
   "outputs": [
    {
     "data": {
      "text/html": [
       "<div>\n",
       "<style scoped>\n",
       "    .dataframe tbody tr th:only-of-type {\n",
       "        vertical-align: middle;\n",
       "    }\n",
       "\n",
       "    .dataframe tbody tr th {\n",
       "        vertical-align: top;\n",
       "    }\n",
       "\n",
       "    .dataframe thead th {\n",
       "        text-align: right;\n",
       "    }\n",
       "</style>\n",
       "<table border=\"1\" class=\"dataframe\">\n",
       "  <thead>\n",
       "    <tr style=\"text-align: right;\">\n",
       "      <th></th>\n",
       "      <th>ItemID</th>\n",
       "      <th>Sentiment</th>\n",
       "      <th>SentimentText</th>\n",
       "      <th>tweet</th>\n",
       "    </tr>\n",
       "  </thead>\n",
       "  <tbody>\n",
       "    <tr>\n",
       "      <th>0</th>\n",
       "      <td>1</td>\n",
       "      <td>0</td>\n",
       "      <td>is so sad for my APL friend</td>\n",
       "      <td>friend</td>\n",
       "    </tr>\n",
       "    <tr>\n",
       "      <th>1</th>\n",
       "      <td>2</td>\n",
       "      <td>0</td>\n",
       "      <td>I missed the New Moon trailer</td>\n",
       "      <td>miss  moon  trailer</td>\n",
       "    </tr>\n",
       "    <tr>\n",
       "      <th>2</th>\n",
       "      <td>3</td>\n",
       "      <td>1</td>\n",
       "      <td>omg its already 730 O</td>\n",
       "      <td>alreadi</td>\n",
       "    </tr>\n",
       "    <tr>\n",
       "      <th>3</th>\n",
       "      <td>4</td>\n",
       "      <td>0</td>\n",
       "      <td>Omgaga Im sooo  im gunna CRy Ive be...</td>\n",
       "      <td>omgaga  sooo  gunna  been  thi  dentist  sinc ...</td>\n",
       "    </tr>\n",
       "    <tr>\n",
       "      <th>4</th>\n",
       "      <td>5</td>\n",
       "      <td>0</td>\n",
       "      <td>i think mi bf is cheating on me       TT</td>\n",
       "      <td>think  cheat</td>\n",
       "    </tr>\n",
       "  </tbody>\n",
       "</table>\n",
       "</div>"
      ],
      "text/plain": [
       "   ItemID  Sentiment                                      SentimentText  \\\n",
       "0       1          0                        is so sad for my APL friend   \n",
       "1       2          0                      I missed the New Moon trailer   \n",
       "2       3          1                              omg its already 730 O   \n",
       "3       4          0             Omgaga Im sooo  im gunna CRy Ive be...   \n",
       "4       5          0           i think mi bf is cheating on me       TT   \n",
       "\n",
       "                                               tweet  \n",
       "0                                             friend  \n",
       "1                                miss  moon  trailer  \n",
       "2                                            alreadi  \n",
       "3  omgaga  sooo  gunna  been  thi  dentist  sinc ...  \n",
       "4                                       think  cheat  "
      ]
     },
     "execution_count": 17,
     "metadata": {},
     "output_type": "execute_result"
    }
   ],
   "source": [
    "for i in range (len(tokenized_tweet)):\n",
    "    tokenized_tweet[i]= \"  \".join(tokenized_tweet[i])\n",
    "    \n",
    "df['tweet']=tokenized_tweet\n",
    "df.head()"
   ]
  },
  {
   "cell_type": "code",
   "execution_count": 18,
   "id": "c78358a4",
   "metadata": {},
   "outputs": [
    {
     "data": {
      "text/plain": [
       "<AxesSubplot:xlabel='Sentiment', ylabel='count'>"
      ]
     },
     "execution_count": 18,
     "metadata": {},
     "output_type": "execute_result"
    },
    {
     "data": {
      "image/png": "[encoded data removed]",
      "text/plain": [
       "<Figure size 432x288 with 1 Axes>"
      ]
     },
     "metadata": {},
     "output_type": "display_data"
    }
   ],
   "source": [
    "sn.set_theme(style=\"darkgrid\")\n",
    "sn.countplot(df['Sentiment'],data=df,palette='inferno')"
   ]
  },
  {
   "cell_type": "code",
   "execution_count": 54,
   "id": "b4ca0a7b",
   "metadata": {},
   "outputs": [
    {
     "data": {
      "text/html": [
       "<div>\n",
       "<style scoped>\n",
       "    .dataframe tbody tr th:only-of-type {\n",
       "        vertical-align: middle;\n",
       "    }\n",
       "\n",
       "    .dataframe tbody tr th {\n",
       "        vertical-align: top;\n",
       "    }\n",
       "\n",
       "    .dataframe thead th {\n",
       "        text-align: right;\n",
       "    }\n",
       "</style>\n",
       "<table border=\"1\" class=\"dataframe\">\n",
       "  <thead>\n",
       "    <tr style=\"text-align: right;\">\n",
       "      <th></th>\n",
       "      <th>ItemID</th>\n",
       "      <th>Sentiment</th>\n",
       "      <th>SentimentText</th>\n",
       "      <th>tweet</th>\n",
       "    </tr>\n",
       "  </thead>\n",
       "  <tbody>\n",
       "    <tr>\n",
       "      <th>0</th>\n",
       "      <td>1</td>\n",
       "      <td>0</td>\n",
       "      <td>is so sad for my APL friend</td>\n",
       "      <td>friend</td>\n",
       "    </tr>\n",
       "    <tr>\n",
       "      <th>1</th>\n",
       "      <td>2</td>\n",
       "      <td>0</td>\n",
       "      <td>I missed the New Moon trailer</td>\n",
       "      <td>miss  moon  trailer</td>\n",
       "    </tr>\n",
       "    <tr>\n",
       "      <th>3</th>\n",
       "      <td>4</td>\n",
       "      <td>0</td>\n",
       "      <td>Omgaga Im sooo  im gunna CRy Ive be...</td>\n",
       "      <td>omgaga  sooo  gunna  been  thi  dentist  sinc ...</td>\n",
       "    </tr>\n",
       "    <tr>\n",
       "      <th>4</th>\n",
       "      <td>5</td>\n",
       "      <td>0</td>\n",
       "      <td>i think mi bf is cheating on me       TT</td>\n",
       "      <td>think  cheat</td>\n",
       "    </tr>\n",
       "    <tr>\n",
       "      <th>5</th>\n",
       "      <td>6</td>\n",
       "      <td>0</td>\n",
       "      <td>or i just worry too much</td>\n",
       "      <td>just  worri  much</td>\n",
       "    </tr>\n",
       "  </tbody>\n",
       "</table>\n",
       "</div>"
      ],
      "text/plain": [
       "   ItemID  Sentiment                                      SentimentText  \\\n",
       "0       1          0                        is so sad for my APL friend   \n",
       "1       2          0                      I missed the New Moon trailer   \n",
       "3       4          0             Omgaga Im sooo  im gunna CRy Ive be...   \n",
       "4       5          0           i think mi bf is cheating on me       TT   \n",
       "5       6          0                   or i just worry too much           \n",
       "\n",
       "                                               tweet  \n",
       "0                                             friend  \n",
       "1                                miss  moon  trailer  \n",
       "3  omgaga  sooo  gunna  been  thi  dentist  sinc ...  \n",
       "4                                       think  cheat  \n",
       "5                                  just  worri  much  "
      ]
     },
     "execution_count": 54,
     "metadata": {},
     "output_type": "execute_result"
    }
   ],
   "source": [
    "Negative=df[df['Sentiment']==0]\n",
    "Negative.head()"
   ]
  },
  {
   "cell_type": "code",
   "execution_count": 56,
   "id": "cee33303",
   "metadata": {},
   "outputs": [
    {
     "data": {
      "text/html": [
       "<div>\n",
       "<style scoped>\n",
       "    .dataframe tbody tr th:only-of-type {\n",
       "        vertical-align: middle;\n",
       "    }\n",
       "\n",
       "    .dataframe tbody tr th {\n",
       "        vertical-align: top;\n",
       "    }\n",
       "\n",
       "    .dataframe thead th {\n",
       "        text-align: right;\n",
       "    }\n",
       "</style>\n",
       "<table border=\"1\" class=\"dataframe\">\n",
       "  <thead>\n",
       "    <tr style=\"text-align: right;\">\n",
       "      <th></th>\n",
       "      <th>ItemID</th>\n",
       "      <th>Sentiment</th>\n",
       "      <th>SentimentText</th>\n",
       "      <th>tweet</th>\n",
       "    </tr>\n",
       "  </thead>\n",
       "  <tbody>\n",
       "    <tr>\n",
       "      <th>2</th>\n",
       "      <td>3</td>\n",
       "      <td>1</td>\n",
       "      <td>omg its already 730 O</td>\n",
       "      <td>alreadi</td>\n",
       "    </tr>\n",
       "    <tr>\n",
       "      <th>6</th>\n",
       "      <td>7</td>\n",
       "      <td>1</td>\n",
       "      <td>Juuuuuuuuuuuuuuuuussssst Chillin</td>\n",
       "      <td>juuuuuuuuuuuuuuuuussssst  chillin</td>\n",
       "    </tr>\n",
       "    <tr>\n",
       "      <th>8</th>\n",
       "      <td>9</td>\n",
       "      <td>1</td>\n",
       "      <td>handed in my uniform today  i miss you a...</td>\n",
       "      <td>hand  uniform  today  miss  alreadi</td>\n",
       "    </tr>\n",
       "    <tr>\n",
       "      <th>9</th>\n",
       "      <td>10</td>\n",
       "      <td>1</td>\n",
       "      <td>hmmmm i wonder how she my number</td>\n",
       "      <td>hmmmm  wonder  number</td>\n",
       "    </tr>\n",
       "    <tr>\n",
       "      <th>11</th>\n",
       "      <td>12</td>\n",
       "      <td>1</td>\n",
       "      <td>thanks to all the haters up in my face a...</td>\n",
       "      <td>thank  hater  face</td>\n",
       "    </tr>\n",
       "  </tbody>\n",
       "</table>\n",
       "</div>"
      ],
      "text/plain": [
       "    ItemID  Sentiment                                      SentimentText  \\\n",
       "2        3          1                              omg its already 730 O   \n",
       "6        7          1                   Juuuuuuuuuuuuuuuuussssst Chillin   \n",
       "8        9          1        handed in my uniform today  i miss you a...   \n",
       "9       10          1                  hmmmm i wonder how she my number    \n",
       "11      12          1        thanks to all the haters up in my face a...   \n",
       "\n",
       "                                  tweet  \n",
       "2                               alreadi  \n",
       "6     juuuuuuuuuuuuuuuuussssst  chillin  \n",
       "8   hand  uniform  today  miss  alreadi  \n",
       "9                 hmmmm  wonder  number  \n",
       "11                   thank  hater  face  "
      ]
     },
     "execution_count": 56,
     "metadata": {},
     "output_type": "execute_result"
    }
   ],
   "source": [
    "Positive=df[df['Sentiment']==1]\n",
    "Positive.head()"
   ]
  },
  {
   "cell_type": "markdown",
   "id": "c7a48a57",
   "metadata": {},
   "source": [
    "# Vectorization"
   ]
  },
  {
   "cell_type": "code",
   "execution_count": 21,
   "id": "2ebc9474",
   "metadata": {},
   "outputs": [],
   "source": [
    "from sklearn.feature_extraction.text import CountVectorizer\n",
    "vectorizer=CountVectorizer(max_df=0.90,min_df=2,max_features=1000,stop_words='english')\n",
    "vectorizer=vectorizer.fit_transform(df['tweet'])"
   ]
  },
  {
   "cell_type": "markdown",
   "id": "d10c0b74",
   "metadata": {},
   "source": [
    "# BUILDING MODEL"
   ]
  },
  {
   "cell_type": "code",
   "execution_count": 22,
   "id": "2ecd7692",
   "metadata": {},
   "outputs": [],
   "source": [
    "from sklearn.model_selection import train_test_split\n",
    "x_train,x_test,y_train,y_test=train_test_split(vectorizer,df['Sentiment'],test_size=0.5,random_state=50)"
   ]
  },
  {
   "cell_type": "code",
   "execution_count": 23,
   "id": "f413a8a9",
   "metadata": {},
   "outputs": [
    {
     "data": {
      "text/plain": [
       "<131070x1000 sparse matrix of type '<class 'numpy.int64'>'\n",
       "\twith 456705 stored elements in Compressed Sparse Row format>"
      ]
     },
     "execution_count": 23,
     "metadata": {},
     "output_type": "execute_result"
    }
   ],
   "source": [
    "x_train"
   ]
  },
  {
   "cell_type": "markdown",
   "id": "d38e23e9",
   "metadata": {},
   "source": [
    "# MODEL 1"
   ]
  },
  {
   "cell_type": "code",
   "execution_count": 24,
   "id": "85722398",
   "metadata": {},
   "outputs": [],
   "source": [
    "from sklearn.linear_model import LogisticRegression"
   ]
  },
  {
   "cell_type": "code",
   "execution_count": 44,
   "id": "5b945674",
   "metadata": {},
   "outputs": [
    {
     "data": {
      "text/plain": [
       "LogisticRegression(C=1, max_iter=10000)"
      ]
     },
     "execution_count": 44,
     "metadata": {},
     "output_type": "execute_result"
    }
   ],
   "source": [
    "model=LogisticRegression(C =1, max_iter = 10000)\n",
    "model.fit(x_train,y_train)"
   ]
  },
  {
   "cell_type": "code",
   "execution_count": 45,
   "id": "4d523507",
   "metadata": {},
   "outputs": [],
   "source": [
    "pred=model.predict(x_test)"
   ]
  },
  {
   "cell_type": "code",
   "execution_count": 49,
   "id": "5b446ce8",
   "metadata": {},
   "outputs": [
    {
     "name": "stdout",
     "output_type": "stream",
     "text": [
      "[[30576 24305]\n",
      " [11986 64204]]\n",
      "accuracy score is 0.7231195306360675\n",
      "              precision    recall  f1-score   support\n",
      "\n",
      "           0       0.72      0.56      0.63     54881\n",
      "           1       0.73      0.84      0.78     76190\n",
      "\n",
      "    accuracy                           0.72    131071\n",
      "   macro avg       0.72      0.70      0.70    131071\n",
      "weighted avg       0.72      0.72      0.72    131071\n",
      "\n"
     ]
    }
   ],
   "source": [
    "from sklearn.metrics import classification_report,confusion_matrix,accuracy_score\n",
    "matrix=confusion_matrix(y_test,pred)\n",
    "print(matrix)\n",
    "score=accuracy_score(y_test,pred)\n",
    "print('accuracy score is',score)\n",
    "report=classification_report(y_test,pred)\n",
    "print(report)"
   ]
  },
  {
   "cell_type": "code",
   "execution_count": 47,
   "id": "08688611",
   "metadata": {},
   "outputs": [
    {
     "data": {
      "text/plain": [
       "<AxesSubplot:>"
      ]
     },
     "execution_count": 47,
     "metadata": {},
     "output_type": "execute_result"
    },
    {
     "data": {
      "image/png": "[encoded data removed]",
      "text/plain": [
       "<Figure size 432x288 with 2 Axes>"
      ]
     },
     "metadata": {},
     "output_type": "display_data"
    }
   ],
   "source": [
    "sn.heatmap(matrix,annot=True)"
   ]
  },
  {
   "cell_type": "markdown",
   "id": "b0a2e728",
   "metadata": {},
   "source": [
    "# MODEL 2"
   ]
  },
  {
   "cell_type": "code",
   "execution_count": 29,
   "id": "b725f001",
   "metadata": {},
   "outputs": [],
   "source": [
    "from sklearn.naive_bayes import BernoulliNB"
   ]
  },
  {
   "cell_type": "code",
   "execution_count": 35,
   "id": "4c21629b",
   "metadata": {},
   "outputs": [],
   "source": [
    "model2 = BernoulliNB()\n",
    "model2.fit(x_train, y_train)\n",
    "pred1 = model2.predict(x_test)"
   ]
  },
  {
   "cell_type": "code",
   "execution_count": 50,
   "id": "208ac5b2",
   "metadata": {},
   "outputs": [
    {
     "name": "stdout",
     "output_type": "stream",
     "text": [
      "[[32176 22705]\n",
      " [13778 62412]]\n",
      "accuracy score is  0.7216546757101113\n",
      "              precision    recall  f1-score   support\n",
      "\n",
      "           0       0.70      0.59      0.64     54881\n",
      "           1       0.73      0.82      0.77     76190\n",
      "\n",
      "    accuracy                           0.72    131071\n",
      "   macro avg       0.72      0.70      0.71    131071\n",
      "weighted avg       0.72      0.72      0.72    131071\n",
      "\n"
     ]
    }
   ],
   "source": [
    "cm=confusion_matrix(y_test,pred1)\n",
    "print(cm)\n",
    "score1=accuracy_score(y_test,pred1)\n",
    "print('accuracy score is ',score1)\n",
    "report1=classification_report(y_test,pred1)\n",
    "print(report1)"
   ]
  },
  {
   "cell_type": "code",
   "execution_count": 43,
   "id": "b9fc2d43",
   "metadata": {},
   "outputs": [
    {
     "data": {
      "text/plain": [
       "<AxesSubplot:>"
      ]
     },
     "execution_count": 43,
     "metadata": {},
     "output_type": "execute_result"
    },
    {
     "data": {
      "image/png": "[encoded data removed]",
      "text/plain": [
       "<Figure size 432x288 with 2 Axes>"
      ]
     },
     "metadata": {},
     "output_type": "display_data"
    }
   ],
   "source": [
    "sn.heatmap(cm,annot=True,cmap='Set1')"
   ]
  },
  {
   "cell_type": "code",
   "execution_count": null,
   "id": "624e7b3c",
   "metadata": {},
   "outputs": [],
   "source": []
  }
 ],
 "metadata": {
  "kernelspec": {
   "display_name": "Python 3",
   "language": "python",
   "name": "python3"
  },
  "language_info": {
   "codemirror_mode": {
    "name": "ipython",
    "version": 3
   },
   "file_extension": ".py",
   "mimetype": "text/x-python",
   "name": "python",
   "nbconvert_exporter": "python",
   "pygments_lexer": "ipython3",
   "version": "3.9.2"
  }
 },
 "nbformat": 4,
 "nbformat_minor": 5
}
